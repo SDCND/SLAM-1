{
 "cells": [
  {
   "cell_type": "markdown",
   "metadata": {},
   "source": [
    "# Unscented Kalman Filter"
   ]
  },
  {
   "cell_type": "code",
   "execution_count": 1,
   "metadata": {},
   "outputs": [],
   "source": [
    "import numpy as np\n",
    "import pandas as pd\n",
    "from matplotlib import pyplot as plt\n",
    "from IO.io import read_data, read_landmarks\n",
    "from scipy.linalg import block_diag,sqrtm\n",
    "from plotting_tools.plotter import draw_ellipse\n",
    "%matplotlib inline"
   ]
  },
  {
   "cell_type": "code",
   "execution_count": 2,
   "metadata": {},
   "outputs": [],
   "source": [
    "# Reading data\n",
    "data = read_data('data/sensor_data.dat')\n",
    "landmarks_data = read_landmarks('data/world.dat')\n",
    "landmarks = pd.DataFrame(landmarks_data)"
   ]
  },
  {
   "cell_type": "code",
   "execution_count": 3,
   "metadata": {},
   "outputs": [
    {
     "data": {
      "text/html": [
       "<div>\n",
       "<style scoped>\n",
       "    .dataframe tbody tr th:only-of-type {\n",
       "        vertical-align: middle;\n",
       "    }\n",
       "\n",
       "    .dataframe tbody tr th {\n",
       "        vertical-align: top;\n",
       "    }\n",
       "\n",
       "    .dataframe thead th {\n",
       "        text-align: right;\n",
       "    }\n",
       "</style>\n",
       "<table border=\"1\" class=\"dataframe\">\n",
       "  <thead>\n",
       "    <tr style=\"text-align: right;\">\n",
       "      <th></th>\n",
       "      <th>0</th>\n",
       "      <th>1</th>\n",
       "      <th>2</th>\n",
       "      <th>3</th>\n",
       "      <th>4</th>\n",
       "      <th>5</th>\n",
       "      <th>6</th>\n",
       "      <th>7</th>\n",
       "      <th>8</th>\n",
       "    </tr>\n",
       "  </thead>\n",
       "  <tbody>\n",
       "    <tr>\n",
       "      <th>id</th>\n",
       "      <td>1.0</td>\n",
       "      <td>2.0</td>\n",
       "      <td>3.0</td>\n",
       "      <td>4.0</td>\n",
       "      <td>5.0</td>\n",
       "      <td>6.0</td>\n",
       "      <td>7.0</td>\n",
       "      <td>8.0</td>\n",
       "      <td>9.0</td>\n",
       "    </tr>\n",
       "    <tr>\n",
       "      <th>x</th>\n",
       "      <td>2.0</td>\n",
       "      <td>0.0</td>\n",
       "      <td>2.0</td>\n",
       "      <td>9.0</td>\n",
       "      <td>10.0</td>\n",
       "      <td>9.0</td>\n",
       "      <td>5.0</td>\n",
       "      <td>5.0</td>\n",
       "      <td>5.0</td>\n",
       "    </tr>\n",
       "    <tr>\n",
       "      <th>y</th>\n",
       "      <td>1.0</td>\n",
       "      <td>4.0</td>\n",
       "      <td>7.0</td>\n",
       "      <td>2.0</td>\n",
       "      <td>5.0</td>\n",
       "      <td>8.0</td>\n",
       "      <td>5.0</td>\n",
       "      <td>3.0</td>\n",
       "      <td>9.0</td>\n",
       "    </tr>\n",
       "  </tbody>\n",
       "</table>\n",
       "</div>"
      ],
      "text/plain": [
       "      0    1    2    3     4    5    6    7    8\n",
       "id  1.0  2.0  3.0  4.0   5.0  6.0  7.0  8.0  9.0\n",
       "x   2.0  0.0  2.0  9.0  10.0  9.0  5.0  5.0  5.0\n",
       "y   1.0  4.0  7.0  2.0   5.0  8.0  5.0  3.0  9.0"
      ]
     },
     "execution_count": 3,
     "metadata": {},
     "output_type": "execute_result"
    }
   ],
   "source": [
    "landmarks.T"
   ]
  },
  {
   "cell_type": "code",
   "execution_count": 4,
   "metadata": {},
   "outputs": [
    {
     "name": "stdout",
     "output_type": "stream",
     "text": [
      "Odometry: 330\n",
      "Sensor: 330\n",
      "{'r1': 0.100692392654, 'r2': 0.000171392857486, 't': 0.100072845247}\n"
     ]
    },
    {
     "data": {
      "text/plain": [
       "[{'bearing': 0.374031885671, 'id': 1.0, 'range': 1.89645381418},\n",
       " {'bearing': 1.51951017943, 'id': 2.0, 'range': 3.85367751107}]"
      ]
     },
     "execution_count": 4,
     "metadata": {},
     "output_type": "execute_result"
    }
   ],
   "source": [
    "odometry = data['odometry']\n",
    "sensor = data['sensor']\n",
    "print(\"Odometry: {}\".format(len(odometry)))\n",
    "print(\"Sensor: {}\".format(len(sensor)))\n",
    "print(odometry[0])\n",
    "sensor[0]"
   ]
  },
  {
   "cell_type": "markdown",
   "metadata": {},
   "source": [
    "## Initialisation of variables.\n"
   ]
  },
  {
   "cell_type": "markdown",
   "metadata": {},
   "source": [
    "We will use a different approach for this algortihm. We will start with the state variable only containing the describing the robot's pose and add the coordinates of the landmarks on the go.\n"
   ]
  },
  {
   "cell_type": "markdown",
   "metadata": {},
   "source": [
    "## Helper Functions"
   ]
  },
  {
   "cell_type": "code",
   "execution_count": 5,
   "metadata": {},
   "outputs": [],
   "source": [
    "def normalize_angle(theta):\n",
    "    return np.mod(theta + np.pi,2*np.pi) - np.pi\n",
    "\n",
    "def compute_sigma_points(mu,sigma,alpha=0.9,beta=2):\n",
    "    # Dimension of sigma points = n\n",
    "    # number of sigma points = 2*n+1\n",
    "    global lam\n",
    "    n = len(mu)\n",
    "    scale = lam + n\n",
    "    \n",
    "    # Calculating Sigma Points:\n",
    "    covar_factor = np.sqrt(n+lam)*sqrtm(sigma)\n",
    "    sigma_points = np.zeros((2*n+1,n))\n",
    "    sigma_points[0] = mu\n",
    "    for i in xrange(n):\n",
    "        sigma_points[i+1] = mu + covar_factor[i]\n",
    "        sigma_points[n+i+1] = mu - covar_factor[i]\n",
    "    \n",
    "    # Calculating weights\n",
    "    w_m = np.zeros(2*n+1)\n",
    "    w_c = np.zeros(2*n+1)\n",
    "    \n",
    "    w_m[0] = lam/(scale)\n",
    "    w_c[0] = w_m[0] + (1-alpha**2+beta)\n",
    "    w_m[1:] = w_c[1:] = 1/(2*(scale))\n",
    "    \n",
    "    return sigma_points, w_m, w_c\n",
    "\n",
    "\n",
    "def recover_theta(sigma_theta,w_m):\n",
    "    '''\n",
    "        Here the argument sigma_theta is a (2n+1 x 1) matrix representing the \n",
    "        angles in the sigma_points. The purpose of this function is to return\n",
    "        the weighted average of all the angles. We do this by calculating the \n",
    "        sum of sines:(y) and cosines:(x) and using atan to recover angle.\n",
    "    '''\n",
    "    y = np.sum(w_m*np.sin(sigma_theta))\n",
    "    x = np.sum(w_m*np.cos(sigma_theta))\n",
    "    \n",
    "    return normalize_angle(np.arctan2(y,x))\n",
    "    \n",
    "\n",
    "def recover_gaussian(trans_sigs,w_m,w_c,recovering_estimates=False):\n",
    "        '''\n",
    "            This function recovers the gaussian distribution from\n",
    "            sigma_points and corresponding weights.\n",
    "            For this algorithm we use this function to recover the mean \n",
    "            and covariance of our state( mu, sigma) as well as the recovering\n",
    "            the mean Estimation and corresponding uncertainity for the Estimates.\n",
    "            \n",
    "            The state variable has the orientation of the object which is in radians\n",
    "            and requires a weighted sum of the cosines and sines to compute the mean.\n",
    "            \n",
    "            The Estiamtes on the other hand will only contain 2 variables (range and bearing).\n",
    "            So in order to differentiate between state and estimate recovery,\n",
    "            we set and unset the recovering_estimates argument.\n",
    "            This helps us avoid various problems like index-out-of-bound error.\n",
    "            \n",
    "        '''        \n",
    "        # preliminary checks\n",
    "        if(len(trans_sigs) != len(w_m) | len(trans_sigs) != len(w_c)):\n",
    "            print('Length of weight vector do not match the number of points.')\n",
    "            raise SystemExit\n",
    "        \n",
    "        # recovering mean\n",
    "        mu = np.sum(trans_sigs*w_m[:,np.newaxis],axis=0)\n",
    "        \n",
    "        if recovering_estimates == False:\n",
    "            # recovering and replacing the angles with the recovered angles\n",
    "            mu[2]= recover_theta(trans_sigs[:,2],w_m)\n",
    "        else:\n",
    "            # normalize bearing for estimates\n",
    "            mu[1] = recover_theta(trans_sigs[:,1],w_m)\n",
    "            \n",
    "        # sigma = sum(w_c*(trans_sigs - mu)*(trans_sigs - mu)^T)\n",
    "        diff = trans_sigs - mu\n",
    "        \n",
    "        if(recovering_estimates==False):\n",
    "            # normalizing angular difference\n",
    "            diff[:,2] = normalize_angle(diff[:,2])\n",
    "        else:\n",
    "            # normalize difference in bearing\n",
    "            diff[:,1] = normalize_angle(diff[:,1])\n",
    "        \n",
    "        w_c = np.matlib.repmat(w_c.reshape(w_c.shape[0],-1),1,len(mu))\n",
    "\n",
    "        k = np.multiply(w_c,diff)\n",
    "        sigma = np.matmul(k.T,diff)\n",
    "        \n",
    "        '''\n",
    "        sigma = np.zeros((n,n))\n",
    "        for i,d in enumerate(diff):\n",
    "            d = d.reshape(2,-1)        # Convert (2,) to (2,1)\n",
    "            sigma = sigma + w_c[i]*np.matmul(d,d.T)  \n",
    "        '''\n",
    "        \n",
    "        return mu,sigma\n",
    "\n",
    "def add_landmark_to_map(mu,sigma,sensor,Q,map):\n",
    "    '''\n",
    "        This function increases the size of the state variables to incorporate\n",
    "        each landmark when they see it. We use Unscented Transform to include the \n",
    "        observation noise Q in our state update.\n",
    "    '''\n",
    "    # Adding landmark to map\n",
    "    map.append(sensor['id'])\n",
    "    \n",
    "    # Augmenting the state variable mu and sigma to add variables for the landmark\n",
    "    # Adding readings to state vector mu\n",
    "    landmark_state = np.array([sensor['range'],sensor['bearing']])\n",
    "    mu = np.r_[mu,landmark_state]\n",
    "    \n",
    "    # Augmenting Landmark uncertainity to sigma\n",
    "    sigma = block_diag(sigma,Q)\n",
    "    \n",
    "    # Computing Sigma Points using Unscented Transform\n",
    "    sigma_points, w_m, w_c = compute_sigma_points(mu,sigma)\n",
    "    \n",
    "    # Normalizing angles\n",
    "    sigma_points[:,2] = normalize_angle(sigma_points[:,2])\n",
    "    \n",
    "    # Estimate the landmark location using the sigma points.\n",
    "    newX = sigma_points[:,0] + sigma_points[:,-2]*np.cos(sigma_points[:,2] + sigma_points[:,-1])\n",
    "    newY = sigma_points[:,1] + sigma_points[:,-2]*np.sin(sigma_points[:,2] + sigma_points[:,-1])\n",
    "    \n",
    "    # Substituting the last two columns with the coordinates.\n",
    "    sigma_points[:,-2] = newX\n",
    "    sigma_points[:,-1] = newY\n",
    "    \n",
    "    # Recovering Gaussian from the sigma points\n",
    "   \n",
    "    mu, sigma = recover_gaussian(sigma_points,w_m,w_c)\n",
    "    \n",
    "    return mu,sigma, map\n",
    "\n",
    "# function to get the ids of the landmarks of the data at a given timestep.\n",
    "# need this to show the what landmarks the robot senses at a time step\n",
    "def get_ids(sensor):\n",
    "    ids = []\n",
    "    for i in sensor:\n",
    "        ids.append(i['id'])\n",
    "    return ids"
   ]
  },
  {
   "cell_type": "markdown",
   "metadata": {},
   "source": [
    "## Prediction step"
   ]
  },
  {
   "cell_type": "code",
   "execution_count": 6,
   "metadata": {},
   "outputs": [],
   "source": [
    "def g(sigma_points,odometry):\n",
    "    # Updating all the sigma_points using the odometry model\n",
    "    \n",
    "    r1 = odometry['r1']\n",
    "    r2 = odometry['r2']\n",
    "    t = odometry['t']\n",
    "    \n",
    "    sigma_points[:,0] = sigma_points[:,0] + t*np.cos(sigma_points[:,2]+r1)    # x' = x + Dcos(Q+q1)\n",
    "    sigma_points[:,1] = sigma_points[:,1] + t*np.sin(sigma_points[:,2]+r1)    # y' = y + Dsin(Q+q1)\n",
    "    sigma_points[:,2] = normalize_angle(sigma_points[:,2] + r1 + r2)          # Q' = Q + r1 + r2\n",
    "    \n",
    "    return sigma_points"
   ]
  },
  {
   "cell_type": "code",
   "execution_count": 7,
   "metadata": {},
   "outputs": [],
   "source": [
    "# Motion Noise\n",
    "motion_noise = 0.01\n",
    "R = [motion_noise,motion_noise,motion_noise/10]*np.eye(3)\n",
    "\n",
    "def prediction(mu,sigma,odometry):\n",
    "    '''\n",
    "        This function will implement the prediction step of the UKF algorithm\n",
    "        First compute the sigma points. Then transform the sigma points using the\n",
    "        odometry model( 'non-linear' function 'g') and recover the gaussian.\n",
    "        Add Odometry Noise R to computed Sigma.\n",
    "    \n",
    "    '''   \n",
    "    # Computing sigma_points\n",
    "    sigma_points, w_m, w_c = compute_sigma_points(mu,sigma)\n",
    "    \n",
    "    # Normalize sigma points\n",
    "    sigma_points[:,2] = normalize_angle(sigma_points[:,2])\n",
    "    \n",
    "    # Transforming sigma_points\n",
    "    Y = g(sigma_points,odometry)\n",
    "    \n",
    "    # Recovering the Gaussian from the transformed sigma_points\n",
    "    mu, sigma = recover_gaussian(Y,w_m,w_c)\n",
    "    \n",
    "    # adding Noise\n",
    "    sigma[0:3,0:3] = sigma[0:3,0:3] + R\n",
    "    return mu, sigma\n",
    "    "
   ]
  },
  {
   "cell_type": "markdown",
   "metadata": {},
   "source": [
    "## Correction Step"
   ]
  },
  {
   "cell_type": "code",
   "execution_count": 8,
   "metadata": {},
   "outputs": [],
   "source": [
    "# Q represents sensor noise\n",
    "noise = 0.01\n",
    "Q = noise*np.eye(2)\n",
    "\n",
    "# Function to estimate range bearing from state.\n",
    "def calculateEstimatedLocation((x,y,phi),(xl,yl)):\n",
    "    delta_x = xl-x\n",
    "    delta_y = yl-y\n",
    "    delta = [delta_x, delta_y]\n",
    "    r = np.sqrt(np.sum(np.multiply(delta,delta),axis=0))\n",
    "    bearing = normalize_angle(np.arctan2(delta_y,delta_x) - phi)\n",
    "    estimate = np.c_[r,bearing]\n",
    "    return estimate\n",
    "\n",
    "def h(sigma_points, index):\n",
    "    '''\n",
    "        The purpose of this function is to implement the Observation Model and transform the \n",
    "        sigma points into the the expected Value of the prediction. If the sigma_points have\n",
    "        entered this function, it is assumed that the observed landmarks has been observed before.\n",
    "        The return value is the estimate of the landmark.\n",
    "        \n",
    "        sigma_points : a list of sigma_points : (2*n+1,n) where n = dimension vector\n",
    "        idnex :    index value of the landmark in the state vectors. a value of 0 represents the\n",
    "                    first observed landmark, 1 represents the second and so on.\n",
    "    '''\n",
    "    \n",
    "    x = sigma_points[:,0]        # x-coordinates for all sigma_points\n",
    "    y = sigma_points[:,1]        # y-coordinates for all sigma_points\n",
    "    theta = sigma_points[:,2]    # orientation theta for all simga_points\n",
    "    \n",
    "    landmarkX = sigma_points[:,3+index*2]\n",
    "    landmarkY = sigma_points[:,4+index*2]\n",
    "    \n",
    "    return calculateEstimatedLocation((x,y,theta),(landmarkX,landmarkY))\n",
    "\n",
    "def correction(mu,sigma,sensor,map):\n",
    "    '''\n",
    "        This function implements the correction step of the algorithm.\n",
    "        Since we have an incremental approach(increase size of mu and sigma online), we will have to \n",
    "        make the update one by one using the for loop.\n",
    "    '''\n",
    "    for i in sensor:\n",
    "        index = np.where(np.array(map)==i['id'])[0]\n",
    "        range = i['range']\n",
    "        bearing = normalize_angle(i['bearing'])\n",
    "        z = [range, bearing]\n",
    "        if(index.size == 0):\n",
    "            # If observing a landmark for the first time, add it to map.\n",
    "            # Note: adding to map will complete the correction step so we\n",
    "            # skip the remaining steps.\n",
    "            mu ,sigma, map = add_landmark_to_map(mu,sigma,i,Q,map)\n",
    "            continue\n",
    "        else:\n",
    "            # If landmark not observed for the first time,\n",
    "            # implement the algorithm step by step.\n",
    "            \n",
    "            # step 1 : Compute sigma points. These will inherit the uncertainity\n",
    "            # of prediction step\n",
    "            sigma_points , w_m, w_c = compute_sigma_points(mu,sigma)\n",
    "            \n",
    "            #Normalize angles\n",
    "            sigma_points[:,2] = normalize_angle(sigma_points[:,2])\n",
    "            \n",
    "            # step 2: Compute an estimate for the sensed landmark using the sigma_points\n",
    "            Z = h(sigma_points,index[0])\n",
    "            \n",
    "            # step 3: Compute the weighted final estimate and uncertainity\n",
    "            z_bar, S = recover_gaussian(Z,w_m,w_c,recovering_estimates=True)\n",
    "            \n",
    "            # Adding sensor noise\n",
    "            S = S + Q\n",
    "            \n",
    "            # step 4: Compute cross-covariance sigma_xz\n",
    "            diff_state = sigma_points - mu\n",
    "            diff_esti  = Z - z_bar\n",
    "            \n",
    "            # Normalize differences in agles\n",
    "            diff_state[:,2] = normalize_angle(diff_state[:,2])\n",
    "            diff_esti[:,1] = normalize_angle(diff_esti[:,1])\n",
    "            \n",
    "            w_c = np.matlib.repmat(w_c.reshape(w_c.shape[0],-1),1,len(mu))\n",
    "            sigma_xz = np.matmul(np.multiply(w_c,diff_state).T,diff_esti)\n",
    "            \n",
    "            # step 5: Calculate Kalman Gain\n",
    "            K = np.matmul(sigma_xz,np.linalg.inv(S))\n",
    "            \n",
    "            # difference in observations\n",
    "            diff = z - z_bar\n",
    "            \n",
    "            # normalize angles\n",
    "            diff[1] = normalize_angle(diff[1])\n",
    "            \n",
    "            # step 6 : update Mean and Covaraince\n",
    "            mu = mu + np.matmul(K,diff)\n",
    "            sigma = sigma - np.matmul(np.matmul(K,S),K.T)\n",
    "            \n",
    "            # normalize orientation\n",
    "            mu[2] = normalize_angle(mu[2])\n",
    "    \n",
    "    return mu, sigma, map\n",
    "        \n",
    "    "
   ]
  },
  {
   "cell_type": "code",
   "execution_count": 9,
   "metadata": {
    "scrolled": false
   },
   "outputs": [
    {
     "data": {
      "image/png": "[encoded data removed]",
      "text/plain": [
       "<matplotlib.figure.Figure at 0x7f49fa67d350>"
      ]
     },
     "metadata": {},
     "output_type": "display_data"
    }
   ],
   "source": [
    "from plotting_tools.plotter import plot_and_save_state\n",
    "\n",
    "# Resetting Values\n",
    "sigma = 0.01*np.eye(3)\n",
    "mu = np.zeros(3)\n",
    "map = []\n",
    "\n",
    "\n",
    "global lam\n",
    "\n",
    "#global scale\n",
    "#scale = 3\n",
    "\n",
    "# Compute Lambda\n",
    "alpha = 0.99\n",
    "beta = 2\n",
    "kappa = 2.5\n",
    "\n",
    "# Implementing the UKF Algorithm\n",
    "fig = plt.figure(figsize=(10,10))\n",
    "\n",
    "# Defining Ellipse confidence. a value of 0.95 indicates that\n",
    "# we are 95 % sure that the ground truth lies within the error ellipse\n",
    "# default value is 0.95\n",
    "prob = 0.95\n",
    "for i in xrange(330): #each timestep\n",
    "    n = len(mu)\n",
    "    lam = (alpha**2)*(n+kappa)-n;\n",
    "    mu , sigma = prediction(mu,sigma,odometry[i])\n",
    "    mu, sigma, map = correction(mu,sigma,sensor[i],map)\n",
    "    plot_and_save_state(mu,sigma,map,landmarks,get_ids(sensor[i]),i,prob)"
   ]
  },
  {
   "cell_type": "code",
   "execution_count": 10,
   "metadata": {},
   "outputs": [],
   "source": [
    "import os\n",
    "# Adding \"echo 'y' |\" sends and 'y' to the program if it asks permission\n",
    "# to overwrite the video file if it already exists    #normalizing angles\n",
    "\n",
    "program = 'echo \"y\" | ffmpeg -r 10  -i plots/ukf_%03d.png -b 500000 plots/ukf_slam.mp4'\n",
    "success = os.system(program)\n",
    "if(success != 0):\n",
    "    print('''An error Occured. Please check if you have ffmpeg installed.\\nTo install ffmpeg on Ubuntu : execute `sudo apt-get install ffmpeg` in shell.\n",
    "For other OS, follow this link : https://github.com/adaptlearning/adapt_authoring/wiki/Installing-FFmpeg''')"
   ]
  },
  {
   "cell_type": "code",
   "execution_count": 11,
   "metadata": {
    "scrolled": false
   },
   "outputs": [
    {
     "data": {
      "text/html": [
       "<video width=\"700\" height=\"700\" controls autoplay>\n",
       "  <source src=\"plots/ukf_slam.mp4\" type=\"video/mp4\">\n",
       "</video>"
      ],
      "text/plain": [
       "<IPython.core.display.HTML object>"
      ]
     },
     "metadata": {},
     "output_type": "display_data"
    }
   ],
   "source": [
    "%%HTML\n",
    "<video width=\"700\" height=\"700\" controls autoplay>\n",
    "  <source src=\"plots/ukf_slam.mp4\" type=\"video/mp4\">\n",
    "</video>"
   ]
  },
  {
   "cell_type": "code",
   "execution_count": 12,
   "metadata": {},
   "outputs": [],
   "source": [
    "map = np.array(map)\n",
    "idx = np.argsort(map)"
   ]
  },
  {
   "cell_type": "code",
   "execution_count": 13,
   "metadata": {},
   "outputs": [
    {
     "name": "stdout",
     "output_type": "stream",
     "text": [
      "3.38713312051\n"
     ]
    }
   ],
   "source": [
    "error = []\n",
    "for x,i in enumerate(idx):\n",
    "    a = np.array([mu[2*i+3],mu[2*i+4]])\n",
    "    b = np.array([landmarks.iloc[x]['x'],landmarks.iloc[x]['y']])\n",
    "    error.append(np.linalg.norm(a-b))\n",
    "print np.sum(error)"
   ]
  }
 ],
 "metadata": {
  "kernelspec": {
   "display_name": "Python 2",
   "language": "python",
   "name": "python2"
  },
  "language_info": {
   "codemirror_mode": {
    "name": "ipython",
    "version": 2
   },
   "file_extension": ".py",
   "mimetype": "text/x-python",
   "name": "python",
   "nbconvert_exporter": "python",
   "pygments_lexer": "ipython2",
   "version": "2.7.13"
  }
 },
 "nbformat": 4,
 "nbformat_minor": 2
}
