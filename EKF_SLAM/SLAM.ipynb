{
 "cells": [
  {
   "cell_type": "markdown",
   "metadata": {},
   "source": [
    "# Extended Kalman Filter SLAM"
   ]
  },
  {
   "cell_type": "markdown",
   "metadata": {},
   "source": [
    "# EKF Algorithm\n",
    "\n",
    "The extended kalman filter is a recursive state estimation algorithm based on bayes filter. It can be used as a solution for Simultaneous Localisation and Mapping problem because of it's recursive nature. This is one of the easiest algorithms to implement and is hence, widely used.\n",
    "\n",
    "In a typical SLAM problem, an environment can consist of an agent, typically a robot, and various landmarks whose locations are observed and stored to create a map of the environment. As the robot moves through the environment, it keeps estimating the locations of the environment from it's previous state and uses the observations it makes, which is through sensors like a laser range finder or a camera, to adjust it's estimates to create a more accurate model(map) of the environment.\n",
    "\n",
    "*Note*: The state variable is modelling the environment, so not only does it consists the variables describing the agent's(or robot's) state but also the variables describing the location of each of the landmarks present in the environment. These descriptions of landmarks are generally relative to the robot's state.\n",
    "\n",
    "Given $x_{1..t}$, the state of the environment at timesteps 1..t, and the commands $u_{1..n}$ are executed by the agent(or robot) and $z_{1..n}$ be the Observations made, then the algorithm uses such a setup to computes the beleif function `bel` which estimates the new state of the environment.\n",
    "\n",
    "\\begin{equation*}\n",
    "bel(x_{t}) = P( z_{t}|x_{t} )\\int_{x_{t-1}}P( x_{t} | x_{t-1} , u_{t}) bel(x_{t-1}) dx_{t-1} \n",
    "\\end{equation*}\n",
    "\n",
    "The above recursive function can be divided into two steps:\n",
    "    \n",
    "    1) Prediction step: Estimating the current state based on previous state and control executed.\n",
    "\n",
    "\\begin{equation*}\n",
    "    \\bar{bel}(x_{t}) = \\int_{x_{t-1}}P( x_{t} | x_{t-1} , u_{t}) bel(x_{t-1}) dx_{t-1}\n",
    "\\end{equation*}\n",
    "\n",
    "    2) Correction step: Correcting the state estimation based on estimations of current observations.\n",
    "\\begin{equation*}\n",
    "    bel(x_{t}) = P( z_{t}|x_{t} )\\bar{bel}(x_{t})\n",
    "\\end{equation*}\n",
    "    "
   ]
  },
  {
   "cell_type": "markdown",
   "metadata": {},
   "source": [
    "The algorithm makes the following **assumptions**:\n",
    "\n",
    "        1) Motion and Observarion models are linear.\n",
    "        2) Noise is distributed Normally (Gaussian Distribtion)\n",
    "        \n",
    "What this practically means is that we can represent the motion of the robot and the estimates of the landmark's relative positions as linear functions. However, this is mostly not the case. A robot or an agent tends to have an orientation which is naturally defined in terms of trigonometric functions and so is it's motion. Similarly, a landmarks can only be estimated by it's distance along with it's direction, which ofcourse introduces some non-linearity.\n",
    "\n",
    "Below is a very common odometry model. This is a motion model that represents the change in a robot's location and pose using a vecrtor of 3 parameters, namely **r1 , t , r2**. These represent intital rotation, distance to travel and final rotation respectively."
   ]
  },
  {
   "cell_type": "markdown",
   "metadata": {},
   "source": [
    "# Odometry Motion Model.\n",
    "\n",
    "[ x' , y' , Q' ] = [ x , y , Q ] + [ t * cos(Q+r1) , t * sin(Q+r1) , r1 + r2 ]\n",
    "\n",
    "![OdometryMotionModel](plots/OdometryMotionModel.png)\n",
    "\n",
    "The odometry model captures the motion of the robot. As shown in the above diagram, the odometry model "
   ]
  },
  {
   "cell_type": "markdown",
   "metadata": {},
   "source": [
    "When The models are not linear, which is often the case:\n",
    "\n",
    "            if the motion model of the agent can be described as:\n",
    "    \n",
    "\\begin{equation*}\n",
    "    x_{t} = g(x_{t-1},u_{t}) + R_{t}\n",
    "\\end{equation*}\n",
    "\n",
    "            where, g() is a non-linear function and R is noise,\n",
    "            then on performing linearisation,\n",
    "\\begin{equation*}\n",
    "    g(x_{t-1},u_{t}) = g(\\mu_{t-1},u_{t}) + G_{t}(x_{t-1}-\\mu_{t-1})\n",
    "\\end{equation*}\n",
    "            \n",
    "   &emsp;&emsp;&emsp;&emsp;&emsp;where $G_{t}$ is the jacobian of g wrt x, and $\\mu_{t-1}$ is the\n",
    "            last best estimate of the state.\n",
    "            \n",
    "Similarly,\n",
    "            \n",
    "            if the Observation model of the agent can be described as:\n",
    "\n",
    "\\begin{equation*}\n",
    "    z_{t} = h(x_{t}) + Q_{t}\n",
    "\\end{equation*}\n",
    "            \n",
    "            where h() is a non-linear function and Q is noise,\n",
    "            then on performing linearisation,\n",
    "\\begin{equation*}\n",
    "    h(x_{t-1}) = h(\\bar{\\mu_{t}}) + H_{t}(x_{t}-\\bar{\\mu_{t}})\n",
    "\\end{equation*}\n",
    "\n",
    "   &emsp;&emsp;&emsp;&emsp;&emsp;where $H_{t}$ is the jacobian of h wrt x and $\\bar{\\mu_{t}}$ is the\n",
    "            current best estimate of the state.\n",
    "            "
   ]
  },
  {
   "cell_type": "markdown",
   "metadata": {},
   "source": [
    "## Combining Models with Gaussian assumptions we have,\n",
    "\n",
    "            Prediction step :\n",
    "\n",
    "\\begin{equation*}\n",
    "P(x_{t} | x_{t-1}, u_{t}) = det(2*\\pi*\\sum)^\\frac{-1}{2} \\exp^{\\frac{-1}{2}(x_{t}-g(x_{t-1},u_{t})-G_{t}(x_{t-1} - \\mu_{t-1}))\\sum^{-1}(x_{t}-g(x_{t-1},u_{t})-G_{t}(x_{t-1} - \\mu_{t-1}))^{T}}\n",
    "\\end{equation*}\n",
    "\n",
    "&emsp;&emsp;&emsp;&emsp;&emsp; Where, $\\sum$ represents the variance or uncertainity.\n",
    "\n",
    "&emsp;&emsp;&emsp;&emsp;&emsp; Since we have modelled uncertainity as $R_{t}$ in the motion model,\n",
    "\n",
    "&emsp;&emsp;&emsp;&emsp;&emsp; $\\sum$ can be replaced by $R_{t}$\n",
    "\n",
    "&emsp;&emsp;&emsp;&emsp;&emsp; So, modified equation is :\n",
    "\n",
    "\n",
    "\\begin{equation*}\n",
    "P(x_{t} | x_{t-1}, u_{t}) = det(2*\\pi*R_{t})^\\frac{-1}{2} \\exp^{\\frac{-1}{2}(x_{t}-g(\\mu_{t-1},u_{t})-G_{t}(x_{t-1} - \\mu_{t-1}))R_{t}^{-1}(x_{t}-g(\\mu_{t-1},u_{t})-G_{t}(x_{t-1} - \\mu_{t-1}))^{T}}\n",
    "\\end{equation*}\n",
    "\n",
    "Similaryly,\n",
    "\n",
    "&emsp;&emsp;&emsp;&emsp;&emsp; In Observation model the uncertainity or variance is modelled by $Q_{t}$\n",
    "\n",
    "&emsp;&emsp;&emsp;&emsp;&emsp; So, the equation becomes:\n",
    "\n",
    "    Correction step :\n",
    "\\begin{equation*}\n",
    "P(z_{t} | x_{t} )= det(2*\\pi*Q_{t})^\\frac{-1}{2} \\exp^{\\frac{-1}{2}(z_{t}-h(\\mu_{t})-H_{t}(x_{t} - \\mu_{t}))Q_{t}^{-1}(x_{t}-h(\\mu_{t})-H_{t}(x_{t} - \\mu_{t}))^{T}}\n",
    "\\end{equation*}\n",
    "    "
   ]
  },
  {
   "cell_type": "markdown",
   "metadata": {},
   "source": [
    "When the math is simplified, the recursive function `bel`, which is practically the EKF algorithm, boils down to the following pseudocode:\n",
    "\n",
    "The pseudocode for the EKF Algorithm:\n",
    "\n",
    "ExtendedKalmanFilter ($\\mu_{t-1}, \\sum_{t-1}, u_{t}, z_{t})$<br>\n",
    "        \n",
    "        (prediction steps)\n",
    "&emsp;&emsp;&emsp;&emsp;&emsp; $\\bar{\\mu_{t}} =  g(\\mu_{t-1},u_{t})$ <br>\n",
    "&emsp;&emsp;&emsp;&emsp;&emsp; $\\bar{\\sum}_{t} = G_{t}\\sum_{t-1}$$G_{t}^T~ + R_{t}$\n",
    "\n",
    "        (corrction steps)\n",
    "        \n",
    "&emsp;&emsp;&emsp;&emsp;&emsp; $K_{t} = \\bar{\\sum}_{t}H_{t}^T(H_{t}\\bar{\\sum}_{t}H_{t}^T + Q_{t})^{-1}$  (kalman gain)<br>\n",
    "&emsp;&emsp;&emsp;&emsp;&emsp; $\\mu_{t} = \\bar{\\mu}_{t} + K_{t}(z_{t} - h(\\bar{\\mu}_{t}))$<br>\n",
    "&emsp;&emsp;&emsp;&emsp;&emsp; $\\sum_{t} = (I - K_{t}H_{t})\\bar{\\sum}_{t}$<br><br>\n",
    "\n",
    "&emsp;&emsp;&emsp;&emsp;&emsp; return($\\mu_{t}, \\sum_{t}$)"
   ]
  },
  {
   "cell_type": "markdown",
   "metadata": {},
   "source": [
    "# Implementing the algorithm with data taken from friedburg university's Robotics Mapping course. Thank you for the open access.\n",
    "\n",
    "## Data files saved from octave. Use octave to read files."
   ]
  },
  {
   "cell_type": "code",
   "execution_count": 1,
   "metadata": {},
   "outputs": [],
   "source": [
    "import oct2py\n",
    "import numpy as np\n",
    "from matplotlib import pyplot as plt\n",
    "import pandas as pd\n",
    "%matplotlib inline\n",
    "%load_ext oct2py.ipython"
   ]
  },
  {
   "cell_type": "code",
   "execution_count": 2,
   "metadata": {},
   "outputs": [],
   "source": [
    "# creating oct2py core-class instance\n",
    "oc = oct2py.Oct2Py()\n",
    "# adding tools directory to path\n",
    "oc.addpath('octave/tools')\n",
    "pass"
   ]
  },
  {
   "cell_type": "code",
   "execution_count": 3,
   "metadata": {},
   "outputs": [],
   "source": [
    "# Reading data\n",
    "landmarks_data = oc.read_world('data/world.dat')\n",
    "data = oc.read_data('data/sensor_data.dat')"
   ]
  },
  {
   "cell_type": "markdown",
   "metadata": {},
   "source": [
    "### As seen above. Landmarks are saved as 3 dimensional objects with dimension corresponding to [id,x,y] respc."
   ]
  },
  {
   "cell_type": "code",
   "execution_count": 4,
   "metadata": {},
   "outputs": [],
   "source": [
    "landmark_dict = {'id':np.array(landmarks_data[0]['id']),'x':np.array(landmarks_data[0]['x']),'y':np.array(landmarks_data[0]['y'])}\n",
    "landmarks = pd.DataFrame(landmark_dict)"
   ]
  },
  {
   "cell_type": "code",
   "execution_count": 5,
   "metadata": {},
   "outputs": [
    {
     "data": {
      "text/html": [
       "<div>\n",
       "<style>\n",
       "    .dataframe thead tr:only-child th {\n",
       "        text-align: right;\n",
       "    }\n",
       "\n",
       "    .dataframe thead th {\n",
       "        text-align: left;\n",
       "    }\n",
       "\n",
       "    .dataframe tbody tr th {\n",
       "        vertical-align: top;\n",
       "    }\n",
       "</style>\n",
       "<table border=\"1\" class=\"dataframe\">\n",
       "  <thead>\n",
       "    <tr style=\"text-align: right;\">\n",
       "      <th></th>\n",
       "      <th>0</th>\n",
       "      <th>1</th>\n",
       "      <th>2</th>\n",
       "      <th>3</th>\n",
       "      <th>4</th>\n",
       "      <th>5</th>\n",
       "      <th>6</th>\n",
       "      <th>7</th>\n",
       "      <th>8</th>\n",
       "    </tr>\n",
       "  </thead>\n",
       "  <tbody>\n",
       "    <tr>\n",
       "      <th>id</th>\n",
       "      <td>1</td>\n",
       "      <td>2</td>\n",
       "      <td>3</td>\n",
       "      <td>4</td>\n",
       "      <td>5</td>\n",
       "      <td>6</td>\n",
       "      <td>7</td>\n",
       "      <td>8</td>\n",
       "      <td>9</td>\n",
       "    </tr>\n",
       "    <tr>\n",
       "      <th>x</th>\n",
       "      <td>2</td>\n",
       "      <td>0</td>\n",
       "      <td>2</td>\n",
       "      <td>9</td>\n",
       "      <td>10</td>\n",
       "      <td>9</td>\n",
       "      <td>5</td>\n",
       "      <td>5</td>\n",
       "      <td>5</td>\n",
       "    </tr>\n",
       "    <tr>\n",
       "      <th>y</th>\n",
       "      <td>1</td>\n",
       "      <td>4</td>\n",
       "      <td>7</td>\n",
       "      <td>2</td>\n",
       "      <td>5</td>\n",
       "      <td>8</td>\n",
       "      <td>5</td>\n",
       "      <td>3</td>\n",
       "      <td>9</td>\n",
       "    </tr>\n",
       "  </tbody>\n",
       "</table>\n",
       "</div>"
      ],
      "text/plain": [
       "    0  1  2  3   4  5  6  7  8\n",
       "id  1  2  3  4   5  6  7  8  9\n",
       "x   2  0  2  9  10  9  5  5  5\n",
       "y   1  4  7  2   5  8  5  3  9"
      ]
     },
     "execution_count": 5,
     "metadata": {},
     "output_type": "execute_result"
    }
   ],
   "source": [
    "landmarks.T"
   ]
  },
  {
   "cell_type": "code",
   "execution_count": 6,
   "metadata": {
    "scrolled": true
   },
   "outputs": [
    {
     "name": "stdout",
     "output_type": "stream",
     "text": [
      "Odometry: [[   1.  330.]]\n",
      "Sensor: [[   1.  330.]]\n"
     ]
    }
   ],
   "source": [
    "odometry = data['timestep']['odometry']\n",
    "sensor = data['timestep']['sensor']\n",
    "\n",
    "print(\"Odometry: {}\".format(oc.size(odometry)))\n",
    "print(\"Sensor: {}\".format(oc.size(sensor)))"
   ]
  },
  {
   "cell_type": "markdown",
   "metadata": {},
   "source": [
    "#### The data consists of 330 timesteps with Odometry(motion) and sensor(Observation) data provided for each of the timesteps."
   ]
  },
  {
   "cell_type": "code",
   "execution_count": 7,
   "metadata": {
    "scrolled": true
   },
   "outputs": [
    {
     "name": "stdout",
     "output_type": "stream",
     "text": [
      "{'r1': 0.100692392654, 'r2': 0.000171392857486, 't': 0.100072845247}\n"
     ]
    }
   ],
   "source": [
    "print(odometry[0][0])"
   ]
  },
  {
   "cell_type": "markdown",
   "metadata": {},
   "source": [
    "Odometry data on each timestep consists of parameters 'r1' , 't' and 'r2'."
   ]
  },
  {
   "cell_type": "markdown",
   "metadata": {},
   "source": [
    "# Observation Model: Range-Bearing"
   ]
  },
  {
   "cell_type": "code",
   "execution_count": 9,
   "metadata": {},
   "outputs": [
    {
     "name": "stdout",
     "output_type": "stream",
     "text": [
      "\n",
      "Observation 0 : size: [[ 1.  2.]] \n",
      "\t [(1.0, 1.89645381418, 0.374031885671) (2.0, 3.85367751107, 1.51951017943)]\n",
      "\n",
      "Observation 100 : size: [[ 1.  3.]] \n",
      "\t [(9.0, 2.80475587919, -0.735588938604) (3.0, 2.23737609054, -2.38224462771)\n",
      " (7.0, 4.91207794035, -1.60323893222)]\n"
     ]
    }
   ],
   "source": [
    "for i in [0,100]:\n",
    "    print('\\nObservation {} : size: {} \\n\\t {}'.format(i,oc.size(sensor[0][i][0][:]),np.array(sensor[0][i][0][:])))"
   ]
  },
  {
   "cell_type": "code",
   "execution_count": 10,
   "metadata": {},
   "outputs": [
    {
     "name": "stdout",
     "output_type": "stream",
     "text": [
      "\n",
      "Observation 0 : size: [[ 1.  2.]] \n",
      "\t ID: 2.0\n",
      "\t Range: 1.89645381418\n",
      "\t Bearing: 0.374031885671\n",
      "\n",
      "Observation 100 : size: [[ 1.  3.]] \n",
      "\t ID: 3.0\n",
      "\t Range: 2.80475587919\n",
      "\t Bearing: -0.735588938604\n"
     ]
    }
   ],
   "source": [
    "# Experiment to access individual values\n",
    "for i in [0,100]:\n",
    "    print('\\nObservation {} : size: {} \\n\\t ID: {}'.format(i,oc.size(sensor[0][i][0][:]),np.array(sensor[0][i][0][:][1]['id'])))\n",
    "    print('\\t Range: {}'.format(np.array(sensor[0][i][0][:][0]['range'])))\n",
    "    print('\\t Bearing: {}'.format(np.array(sensor[0][i][0][:][0]['bearing'])))\n",
    "    "
   ]
  },
  {
   "cell_type": "markdown",
   "metadata": {},
   "source": [
    "The sensor data on exploring reveals that at each time step, the sensor data consists of the Range and Bearing of the observed landmarks. Now at each timestep, the number of landmarks observed can be different, so the size of the sensor data is varying.\n",
    "\n",
    "The data is of the form : [ ID , Range , Bearing]. Here range is the euclidean distance of the robot from the landmark and bearing is the angle between the robot's pose and the landmark.\n",
    "\n",
    "Since in our environment state, landmarks must be represented static and not relative to the robot, we will calculate and store landmark positions $(x_{m},y_{m})$ from Range and Bearing information.\n",
    "\n",
    "Moreover, since we have been given landmark associations already, we assume perfect data associations."
   ]
  },
  {
   "cell_type": "markdown",
   "metadata": {},
   "source": [
    "# Variable Declaration:\n",
    "\n",
    "&emsp;&emsp;&emsp;&emsp;&emsp;&emsp; As seen above, EKF assumes that the state of the environment is Normally distributed.<br>\n",
    "&emsp;&emsp;&emsp;&emsp;&emsp;&emsp; So the state of each object in the environment can be modelled by <br>\n",
    "&emsp;&emsp;&emsp;&emsp;&emsp;&emsp;&emsp;&emsp;&emsp;&emsp;&emsp;&emsp; $~N(\\mu_{i},\\sum_{i})$ , for $i^th$ object.\n",
    "\n",
    "&emsp;&emsp;&emsp;&emsp;&emsp;&emsp; Where $\\mu_{i}$ is a vector of size <b>m+bn</b>, where m is the parameters used to model robot's state<br>\n",
    "&emsp;&emsp;&emsp;&emsp;&emsp;&emsp; and b is the number of parameters used to model a landmark's state<br>\n",
    "&emsp;&emsp;&emsp;&emsp;&emsp;&emsp; and n is the number of landmarks.\n",
    "\n",
    "Similarly, $\\sum_{i}$ is a covariance matrix of size <b>(m+bn $*$ m+bn)</b> .\n"
   ]
  },
  {
   "cell_type": "markdown",
   "metadata": {},
   "source": [
    "## Initialisation:\n",
    "\n",
    "To compute the recursive posterior belief recursively, it is required for the algorithm to have an intial belief bel($x_{0}$. This serves as a boundary condition for the algorithm.\n",
    "\n",
    "The initial value of the belief depends on how certain we are about the inital conditions of the environment. If we are absolutely certain about the initial belief, the state can be initialised as a point mass distribution centred at the true value of $x_{0}$. For a gaussian distribution this may be a gaussian centred at the true value with an infinite height.\n",
    "\n",
    "However, when this is not the case, and if we are absolutely uncertain or ignorant of the environments initial state, then the $x_{0}$ can be initialised as a uniform distribution. In case of a gaussian distribution, this can be represented by $\\sigma -> \\inf$"
   ]
  },
  {
   "cell_type": "code",
   "execution_count": 11,
   "metadata": {},
   "outputs": [],
   "source": [
    "# Given the motion model above, we have 3 robot parameters and 9*2 landmark parameters(x,y).(9*3 including the ID)\n",
    "# But we won't include id in the covariance matrix instead use it to index through the matrix.\n",
    "m = 3    # Number of motion parameters\n",
    "n = 9    # Number of landmarks\n",
    "b = 2    # Number of parameters for each landmark.\n",
    "INF = 1000 # infinite value.\n",
    "\n",
    "global observedLandmakrs # Since we need to change it inside a function\n",
    "observedLandmarks = np.zeros(n) # recording if a landmark has been observed or not.\n",
    "\n",
    "# We create the covariance matrix by dividing into 4 matrices:\n",
    "#   sigma_mm :representing the covaraince of robot params with themselves: (m,m)\n",
    "#   sigma_mn :representing the covariance of robot params with landmarks : (m,bn)\n",
    "#   sigma_nm :representing the covariance of landmarks with robot params : (bn,m)\n",
    "#   sigma_nn :representing the covariance of landmarks with landmarks : (bn,bn)\n",
    "\n",
    "sigma_mm = np.zeros((m,m)) # absolutely certain that robot is at (0,0,0)\n",
    "sigma_mn = np.zeros((m,b*n)) # No correlations. Haven't seen a landmark yet.\n",
    "sigma_nm = np.zeros((b*n,m)) # No correlations. Haven't seen a landmark yet.\n",
    "sigma_nn = INF*np.eye(b*n) # Landmarks Uniformly distributed.\n",
    "\n",
    "sigma = np.r_[np.c_[sigma_mm,sigma_mn],np.c_[sigma_nm,sigma_nn]]\n",
    "mu = np.zeros(m+b*n)"
   ]
  },
  {
   "cell_type": "markdown",
   "metadata": {},
   "source": [
    "## Proceeding with the Prediction step of the algorithm.\n",
    "\n",
    "Remember,\n",
    "\n",
    "&emsp;&emsp;&emsp;&emsp;&emsp; $\\bar{\\mu}_{t} = g(\\mu_{t-1},u_{t})$\n",
    "&emsp;&emsp;&emsp;&emsp;&emsp; $\\bar{\\sum}_{t} = G_{t}\\sum_{t-1}G_{t}^T + R_{t}$\n",
    "&emsp;&emsp;&emsp;&emsp;&emsp; $G_{t} = Jacobian of g()$"
   ]
  },
  {
   "cell_type": "code",
   "execution_count": 12,
   "metadata": {},
   "outputs": [],
   "source": [
    "# Function to normalize orientation angle\n",
    "def normalize_angle(theta):\n",
    "    return oc.normalize_angle(theta)\n",
    "\n",
    "# implementing the function g or the motion model described a few slides above:\n",
    "def g(mu,r1,r2,t):\n",
    "    # The odometry model will only effect the motion parameters. This means that landmark parameters\n",
    "    # will remain unchanged. This will only update the sigma_mm matrix.\n",
    "    \n",
    "    # updating parameters.\n",
    "    mu[0] = mu[0] + t*np.cos(mu[2]+r1)    # x' = x + Dcos(Q+q1)\n",
    "    mu[1] = mu[1] + t*np.sin(mu[2]+r1)    # y' = y + Dsin(Q+q1)\n",
    "    mu[2] = normalize_angle(mu[2] + r1 + r2)               # Q' = Q + r1 + r2\n",
    "    \n",
    "    return mu\n",
    "\n",
    "# implementing a function that computes the jacobian of g\n",
    "\n",
    "\n",
    "def G(mu,r1,r2,t):\n",
    "    # Jacobian matrix will be a mxm matrix. To obtain it we just have to compute the differential of g()\n",
    "    # wrt to all paramters(x , y, q, here)\n",
    "    G = np.eye(m)\n",
    "    G[0,2] = -t*np.sin(mu[2] + r1)\n",
    "    G[1,2] = t*np.cos(mu[2] + r1)\n",
    "    \n",
    "    return G\n",
    "\n",
    "# Defining Odometry Noise as :\n",
    "\n",
    "R = [0.1,0.1,0.01]*np.eye(m)   "
   ]
  },
  {
   "cell_type": "code",
   "execution_count": 13,
   "metadata": {},
   "outputs": [],
   "source": [
    "# Implementing the Prediction step of the algorithm\n",
    "def prediction(mu,sigma,odometry):\n",
    "    # The odometry model will only effect the motion parameters. This means that landmark parameters\n",
    "    # will remain unchanged. This will only update the sigma_mm matrix.\n",
    "    r1 = odometry['r1']\n",
    "    r2 = odometry['r2']\n",
    "    t = odometry['t']\n",
    "    \n",
    "    # Calculating Jacobian\n",
    "    G_jg = G(mu,r1,r2,t)    # Jacobian of g\n",
    "    \n",
    "    # Updating mu and sigma\n",
    "    mu = g(mu,r1,r2,t)\n",
    "    \n",
    "    sigma[0:m,0:m] = np.matmul(np.matmul(G_jg.T,sigma[0:m,0:m]),G_jg)\n",
    "    sigma[0:m,0:m] = sigma[0:m,0:m] + R\n",
    "    \n",
    "    return mu, sigma"
   ]
  },
  {
   "cell_type": "markdown",
   "metadata": {},
   "source": [
    "# Implementing the Correction step\n",
    "\n",
    "Remember,\n",
    "\n",
    "&emsp;&emsp;&emsp;&emsp;&emsp; $K_{t} = \\bar{\\sum}_{t}H_{t}^T(H_{t}\\bar{\\sum}_{t}H_{t}^T + Q_{t})^{-1}$  (kalman gain)<br>\n",
    "&emsp;&emsp;&emsp;&emsp;&emsp; $\\mu_{t} = \\bar{\\mu}_{t} + K_{t}(z_{t} - h(\\bar{\\mu}_{t}))$<br>\n",
    "&emsp;&emsp;&emsp;&emsp;&emsp; $\\sum_{t} = (I - K_{t}H_{t})\\bar{\\sum}_{t}$<br><br>\n",
    "Where, h(x) is the observation model and Ht is it's jacobian\n",
    "\n",
    "The function h(x) returns the estimate of a landmark position in terms of distance 'q' called range and orientation difference (atan2(del(y),del(x)) - theta) where del(y) and del(x) are the difference in coordinates and theta is the orientations of the robot.\n",
    "\n",
    "So if, $(x_{l},y_{l})$ is the coordinate of landmark and $(x,y,\\theta)$ is the pose of the robot then,\n",
    "\n",
    "\\begin{equation*}\n",
    "    \\delta_{x} = x_{l} - x\n",
    "\\end{equation*}\n",
    "\\begin{equation*}\n",
    "    \\delta_{y} = y_{l} - y\n",
    "\\end{equation*}\n",
    "\\begin{equation*}\n",
    "\\delta = \\begin{bmatrix}\n",
    "                \\delta_{x} \\\\\n",
    "                \\delta_{y} \n",
    "             \\end{bmatrix}\n",
    "\\end{equation*}\n",
    "\n",
    "\\begin{equation*}\n",
    "q  = \\delta\\delta^T    (Euclidean Distance)^2\n",
    "\\end{equation*}\n",
    "\n",
    "\\begin{equation*}\n",
    "\\DeclareMathOperator{\\taninv}{tan^{-1}}\n",
    "h(x) = \\begin{bmatrix}\n",
    "        \\sqrt{q} \\\\\n",
    "        \\taninv{\\frac{\\delta_{y}}{\\delta_{x}}} + \\theta\n",
    "       \\end{bmatrix}\n",
    "\\end{equation*}"
   ]
  },
  {
   "cell_type": "code",
   "execution_count": 14,
   "metadata": {},
   "outputs": [],
   "source": [
    "# Function to calculate landmark coordinates from observed data(sensed).\n",
    "def calculateObservedLocation((x,y,phi),(r,bearing)):\n",
    "    return [x + r*np.cos(bearing + phi), y + r*np.sin(bearing + phi)]\n",
    "\n",
    "# Function to estimate range bearing from state.\n",
    "def calculateEstimatedLocation((x,y,phi),(xl,yl)):\n",
    "    delta_x = xl-x\n",
    "    delta_y = yl-y\n",
    "    delta = [delta_x, delta_y]\n",
    "    r = np.sqrt(np.dot(delta,delta))\n",
    "    bearing = np.arctan2(delta_y,delta_x) - phi\n",
    "    return [r,bearing]\n",
    "\n",
    "# Function to estimate the landmark coordinates from current estimated state.\n",
    "# This is the function h modelling P(z|x), Use the variables in Xt to estimate the\n",
    "# landmark positions.\n",
    "\n",
    "# The positions of landmark n is set at 2n+3, 2n+4, corresponding to x and y coordinate\n",
    "# of the landmark.\n",
    "\n",
    "\n",
    "# Returns a matrix of size (1 x nb). with unobserved landmarks indices having zero.\n",
    "def h(mu, sensor,observedLandmarks):\n",
    "    x_r, y_r, theta_r = mu[0],mu[1],mu[2]    # Robot's state.( coordinates, orientation)\n",
    "    z = np.zeros((n,b))\n",
    "    # for every sensed landmark, output an estimate.\n",
    "    for i in sensor:\n",
    "        index = int(i['id']) - 1\n",
    "        r = i['range']\n",
    "        bearing = i['bearing']\n",
    "        # If observing a landmark for the first time, estimate = observation.\n",
    "        # calculate and update the landmark coordinates in system.\n",
    "        if not(observedLandmarks[index]):\n",
    "            z[index] = [r, bearing]\n",
    "            # updating landmark location\n",
    "            [mu[2*index + 3] ,mu[2*index + 4]] = calculateObservedLocation((x_r,y_r,theta_r),(r,bearing))\n",
    "            observedLandmarks[index] = True                           # Marking landmark as observed.\n",
    "    \n",
    "        # If landmark observed before, estimate the landmark's range and bearing from current state\n",
    "        else:\n",
    "            x_l, y_l = mu[2*index+3], mu[2*index+4]\n",
    "            z[index] = calculateEstimatedLocation((x_r,y_r,theta_r),(x_l,y_l))\n",
    "            \n",
    "    return mu, observedLandmarks, z.ravel()"
   ]
  },
  {
   "cell_type": "markdown",
   "metadata": {},
   "source": [
    "### Calculatin Jacobian of h(x)\n",
    "\n",
    "Now we know that $h(x)$ outputs the relative position of each landmark in the form of a range-bearing pair.\n",
    "The jacobian of such a function with respect to $x_{t}$ for a single estimation will be of size $(b,bn+m)$ or $(2,21)$ in this case. However, since the estimate($h(x)$) only depends on $(x,y,\\theta)$ (robot's pose) and $(x_{l},y_{l}$ (landmark's coordinates) this will be a sparse matrix.\n",
    "\n",
    "In our function, we will stack the Jacobians of each landmark together to form a single matrix of size $(bn,m+bn)$ or $(18,21)$.\n",
    "\n",
    "Now that we have $h(x)$ and our concepts clear, we can differentiate the function $h(x)$ wrt to all the depend variables $(x,y,\\theta,x_{l},y_{l})$.\n",
    "\n",
    "So for a landmark i, we have Jacobian $H_{t}^{i}$ as:\n",
    "\n",
    "\\begin{equation*}\n",
    "    H_{t}^{i} = \\frac{1}{q}\\begin{bmatrix}\n",
    "                 -\\sqrt{q}\\delta_{x} && -\\sqrt{q}\\delta_{y} && 0 && \\sqrt{q}\\delta_{x} && \\sqrt{q}\\delta_{y} \\\\\n",
    "                 \\delta_{y} && -\\delta_{x} && -q && -\\delta{y} && \\delta_{x}\n",
    "                 \\end{bmatrix}\n",
    "\\end{equation*}\n",
    "\n",
    "Note, Since we will compute the jacobian wrt to vector $x_{t}$ (mean), the above matrix will be of size $b \\times (m +bn)$ or $2 \\times 21$ in this case.\n",
    "\n",
    "Since the estimation of a landmark only depends upon the robot's pose and landmark's coordinates.This would be a sparse matrix. With values NOT corresponding to the depend values being zero.\n",
    "\n",
    "In practise, we will stack such Jacobian on to one another for each landmark giving a $18 \\times 21$ matrix."
   ]
  },
  {
   "cell_type": "code",
   "execution_count": 15,
   "metadata": {},
   "outputs": [],
   "source": [
    "# function to compute the Jacobian Matrix(Ht) of function h.\n",
    "def H(mu,sensor):\n",
    "    # This function computes the jacobian of the estimate function h wrt all state variables.\n",
    "    # Since each estimate has a size (1xb), and we will compute the jacobian for each observation,\n",
    "    # the size of the jacobian will be (bn x m+bn).\n",
    "    # Since observed landmarks < total landmarks usually, this will be a sparse matrix.\n",
    "    H = np.zeros((b*n,m+b*n))\n",
    "    xr, yr, theta_r = mu[0],mu[1],mu[2]    # robot's pose variables.\n",
    "    for i in sensor:\n",
    "        index = int(i['id']) - 1\n",
    "        xl, yl = mu[2*index+3], mu[2*index+4] # Landmark's coordinates.\n",
    "        delta_x = xl - xr                      # Difference in x $delta_x$\n",
    "        delta_y = yl - yr                     # Difference in y $delta_y$\n",
    "        delta = [delta_x, delta_y]            # Matrix containing differences\n",
    "        q = np.dot(delta,delta)               # euclidean distance square (delta_x^2 + delta_y^2)\n",
    "        q_sq = np.sqrt(q)                     # euclidean distance\n",
    "        \n",
    "        H[index*2][0:m] = [-q_sq*delta_x, -q_sq*delta_y, 0]/q        \n",
    "        H[index*2+1][0:m] = [delta_y, -delta_x, -q]/q\n",
    "        H[index*2][3+2*index:3+2*index+2] = [q_sq*delta_x, q_sq*delta_y]/q\n",
    "        H[index*2+1][3+2*index:3+2*index+2] = [-delta_y, delta_x]/q\n",
    "        \n",
    "    return H"
   ]
  },
  {
   "cell_type": "code",
   "execution_count": 16,
   "metadata": {},
   "outputs": [],
   "source": [
    "# Creating Sensor Noise Qt\n",
    "Q = 0.01*np.eye(b*n)\n",
    "\n",
    "# Creating function to convert sensor data into (1x18) matrix to aid processing.\n",
    "def process_data(sensor):\n",
    "    processed_data = np.zeros((n,b))\n",
    "    for i in sensor:\n",
    "        processed_data[(int(i['id']) - 1)] = [i['range'],i['bearing']]\n",
    "    return processed_data.ravel()\n",
    "\n",
    "# Implementing the correction step. Implementing the pseudo codes mentioned above.\n",
    "def correction(mu,sigma,sensor,observedLandmarks):\n",
    "    \n",
    "    # applying preprocessing to data\n",
    "    z = process_data(sensor)\n",
    "    mu, observedLandmarks, z_bar = h(mu,sensor,observedLandmarks)\n",
    "    \n",
    "    # Calculating Jacobian and finding inverse : (H*sigma*H^T + Q)^-1\n",
    "    H_jh = H(mu,sensor)\n",
    "    inv = np.linalg.inv(np.matmul(np.matmul(H_jh,sigma),H_jh.T) + Q)\n",
    "    \n",
    "    # calculating kalman mean\n",
    "    K = np.matmul(np.matmul(sigma,H_jh.T),inv)      # Kalman Gain\n",
    "    \n",
    "    # calculate difference in observation and estimate\n",
    "    diff = z - z_bar\n",
    "       \n",
    "    # using helper function provided to normalize all bearings to (-pi,pi)\n",
    "    difference = oc.normalize_all_bearings(diff).ravel()    \n",
    "\n",
    "    # update mu and sigma\n",
    "    mu = mu + np.matmul(K,difference)\n",
    "    sigma = np.matmul((np.eye(m+b*n) - np.matmul(K,H_jh)),sigma)\n",
    "    \n",
    "    return mu, sigma"
   ]
  },
  {
   "cell_type": "markdown",
   "metadata": {},
   "source": [
    "# Final Algorithm "
   ]
  },
  {
   "cell_type": "code",
   "execution_count": 17,
   "metadata": {
    "scrolled": false
   },
   "outputs": [
    {
     "data": {
      "image/png": "[encoded data removed]",
      "text/plain": [
       "<matplotlib.figure.Figure at 0x7f674238be90>"
      ]
     },
     "metadata": {},
     "output_type": "display_data"
    }
   ],
   "source": [
    "from plotting_tools.plotter import plot_and_save_state\n",
    "\n",
    "# Resetting Values\n",
    "sigma = np.r_[np.c_[sigma_mm,sigma_mn],np.c_[sigma_nm,sigma_nn]]\n",
    "mu = np.zeros(m+b*n)\n",
    "observedLandmarks = np.zeros(n)\n",
    "\n",
    "# Implementing the EKF Algorithm\n",
    "fig = plt.figure(figsize=(10,10))\n",
    "\n",
    "# Defining Ellipse confidence. a value of 0.95 indicates that\n",
    "# we are 95 % sure that the ground truth lies within the error ellipse\n",
    "# default value is 0.95\n",
    "prob = 0.95\n",
    "for i in xrange(330): #each timestep\n",
    "    sensed_data = sensor[0][i][0][:]\n",
    "    \n",
    "    mu , sigma = prediction(mu,sigma,odometry[0][i])\n",
    "    mu, sigma = correction(mu,sigma,sensed_data,observedLandmarks)\n",
    "    \n",
    "    \n",
    "    plot_and_save_state(mu,sigma,observedLandmarks,landmarks,sensed_data['id'],i,prob)"
   ]
  },
  {
   "cell_type": "code",
   "execution_count": 18,
   "metadata": {},
   "outputs": [],
   "source": [
    "import os\n",
    "# Adding \"echo 'y' |\" sends and 'y' to the program if it asks permission\n",
    "# to overwrite the video file if it already exists\n",
    "\n",
    "program = 'echo \"y\" | ffmpeg -r 10  -i plots/ekf_%03d.png -b 500000 plots/ekf_slam.mp4'\n",
    "success = os.system(program)\n",
    "if(success != 0):\n",
    "    print('''An error Occured. Please check if you have ffmpeg installed.\\nTo install ffmpeg on Ubuntu : execute `sudo apt-get install ffmpeg` in shell. For other OS, follow this link : https://github.com/adaptlearning/adapt_authoring/wiki/Installing-FFmpeg''')"
   ]
  },
  {
   "cell_type": "code",
   "execution_count": 19,
   "metadata": {},
   "outputs": [
    {
     "data": {
      "text/html": [
       "<video width=\"800\" height=\"800\" controls autoplay>\n",
       "  <source src=\"plots/ekf_slam.mp4\" type=\"video/mp4\">\n",
       "</video>"
      ],
      "text/plain": [
       "<IPython.core.display.HTML object>"
      ]
     },
     "metadata": {},
     "output_type": "display_data"
    }
   ],
   "source": [
    "%%HTML\n",
    "<video width=\"800\" height=\"800\" controls autoplay>\n",
    "  <source src=\"plots/ekf_slam.mp4\" type=\"video/mp4\">\n",
    "</video>"
   ]
  },
  {
   "cell_type": "markdown",
   "metadata": {},
   "source": [
    "# Discussion:\n",
    "\n",
    "As we can see that the algorithm can acheive decent results. Although some estimates are still a little off like the landmarks on the right. This is because the Kalman Filter assumes Linearity of models(motion and observation) and Gaussian Distribution of errors. But since our models are composed of non-linear functions like sin and cosine functions, which are linearised by calculating Jacobians, the goodness of the results highly depends on the quality of linearisation.\n",
    "\n",
    "Further, the quality of linearisation depends on two factors: **Level of uncertainity** and **Degree of local Linearity**.\n",
    "\n",
    "This is explained in the figure below. "
   ]
  },
  {
   "cell_type": "markdown",
   "metadata": {},
   "source": [
    "# References\n",
    "\n",
    "The references folder has some good material on the SLAM problem generally.\n",
    "\n",
    "The dataset used here has been taken from Freiburg University's Robotics Mapping Course Page.\n",
    "\n",
    "http://ais.informatik.uni-freiburg.de/teaching/ws13/mapping/\n",
    "\n",
    "The lectures for this page can be found on youtube.\n",
    "\n",
    "https://www.youtube.com/watch?v=U6vr3iNrwRA&list=PLgnQpQtFTOGQrZ4O5QzbIHgl3b1JHimN_\n",
    "\n",
    "Further, if interested in how to draw the iso-contours(probability ellipse) when dealing with Bivariate Gaussian Distribution, check the references for a guide and also check the code in plotting_tools folder."
   ]
  }
 ],
 "metadata": {
  "kernelspec": {
   "display_name": "Python 2",
   "language": "python",
   "name": "python2"
  },
  "language_info": {
   "codemirror_mode": {
    "name": "ipython",
    "version": 2
   },
   "file_extension": ".py",
   "mimetype": "text/x-python",
   "name": "python",
   "nbconvert_exporter": "python",
   "pygments_lexer": "ipython2",
   "version": "2.7.13"
  }
 },
 "nbformat": 4,
 "nbformat_minor": 2
}
